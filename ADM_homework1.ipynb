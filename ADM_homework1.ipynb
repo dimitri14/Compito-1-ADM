{
 "cells": [
  {
   "cell_type": "markdown",
   "id": "c39e631c",
   "metadata": {},
   "source": [
    "Dimitri Saliola \n",
    "Homework1"
   ]
  },
  {
   "cell_type": "markdown",
   "id": "e47dbae0",
   "metadata": {},
   "source": [
    "Algorithmic methods of data mining"
   ]
  },
  {
   "cell_type": "markdown",
   "id": "2d04b1a4",
   "metadata": {},
   "source": [
    "all exercises are written in pypy2 language (except if specified otherwise) "
   ]
  },
  {
   "cell_type": "markdown",
   "id": "29906f7a",
   "metadata": {},
   "source": [
    "Problem 1:"
   ]
  },
  {
   "cell_type": "markdown",
   "id": "c79a1325",
   "metadata": {},
   "source": [
    "1\\\\ Say hello world"
   ]
  },
  {
   "cell_type": "code",
   "execution_count": null,
   "id": "132d2a09",
   "metadata": {},
   "outputs": [],
   "source": [
    "if __name__ == '__main__':\n",
    "    print \"Hello, World!\""
   ]
  },
  {
   "cell_type": "markdown",
   "id": "2ac14326",
   "metadata": {},
   "source": [
    "2\\ If-else"
   ]
  },
  {
   "cell_type": "code",
   "execution_count": null,
   "id": "1771ded8",
   "metadata": {},
   "outputs": [],
   "source": [
    "import math\n",
    "import os\n",
    "import random\n",
    "import re\n",
    "import sys\n",
    "\n",
    "if __name__ == '__main__':\n",
    "    n = int(raw_input().strip())\n",
    "if n%2!=0:\n",
    "    print('Weird')\n",
    "if n%2==0 and n>=2 and n<=5:\n",
    "    print('Not Weird')\n",
    "if n%2==0 and n<=20 and n>=6:\n",
    "    print('Weird')\n",
    "if n%2==0 and n>20:\n",
    "    print('Not Weird')"
   ]
  },
  {
   "cell_type": "markdown",
   "id": "f2686f6a",
   "metadata": {},
   "source": [
    "3\\ Arithmetic operator"
   ]
  },
  {
   "cell_type": "code",
   "execution_count": null,
   "id": "f86a564a",
   "metadata": {},
   "outputs": [],
   "source": [
    "if __name__ == '__main__':\n",
    "    a = int(raw_input())\n",
    "    b = int(raw_input())\n",
    "    print(a+b)\n",
    "    print(a-b)\n",
    "    print(a*b)\n"
   ]
  },
  {
   "cell_type": "markdown",
   "id": "1e27e7ad",
   "metadata": {},
   "source": [
    "4\\ Division"
   ]
  },
  {
   "cell_type": "code",
   "execution_count": null,
   "id": "cb218c78",
   "metadata": {},
   "outputs": [],
   "source": [
    "from __future__ import division\n",
    "\n",
    "if __name__ == '__main__':\n",
    "    a = int(raw_input())\n",
    "    b = int(raw_input())\n",
    "\n",
    "print(a//b)\n",
    "print(a/b)\n"
   ]
  },
  {
   "cell_type": "markdown",
   "id": "eda706c9",
   "metadata": {},
   "source": [
    "5\\ Loops"
   ]
  },
  {
   "cell_type": "code",
   "execution_count": null,
   "id": "db4e03fd",
   "metadata": {},
   "outputs": [],
   "source": [
    "if __name__ == '__main__':\n",
    "    n = int(raw_input())\n",
    "for i in range(n):\n",
    "    print(i**2)"
   ]
  },
  {
   "cell_type": "markdown",
   "id": "acaefdc0",
   "metadata": {},
   "source": [
    "6\\ Create function"
   ]
  },
  {
   "cell_type": "code",
   "execution_count": null,
   "id": "d04c1ba7",
   "metadata": {},
   "outputs": [],
   "source": [
    "def is_leap(year):\n",
    "    leap = False\n",
    "\n",
    "    if year%4==0:\n",
    "       leap = True\n",
    "     if year%100==0:\n",
    "       leap = False\n",
    "    if year%400==0:\n",
    "       leap = True\n",
    "    return leap\n",
    "\n",
    "year = int(raw_input())\n",
    "print is_leap(year)\n"
   ]
  },
  {
   "cell_type": "markdown",
   "id": "0f88d65a",
   "metadata": {},
   "source": [
    "7\\ Print function"
   ]
  },
  {
   "cell_type": "code",
   "execution_count": null,
   "id": "7b125625",
   "metadata": {},
   "outputs": [],
   "source": [
    "from __future__ import print_function\n",
    "\n",
    "if __name__ == '__main__':\n",
    "    n = int(raw_input())\n",
    "for i in range(n):\n",
    "   print(i+1, end = \"\")\n"
   ]
  },
  {
   "cell_type": "markdown",
   "id": "42297df2",
   "metadata": {},
   "source": [
    "8\\ List comprehension"
   ]
  },
  {
   "cell_type": "code",
   "execution_count": null,
   "id": "8123110a",
   "metadata": {},
   "outputs": [],
   "source": [
    "if __name__ == '__main__':\n",
    "    x = int(raw_input())\n",
    "    y = int(raw_input())\n",
    "    z = int(raw_input())\n",
    "    n = int(raw_input())\n",
    "newlist = []\n",
    "for i in range(x+1):\n",
    "    for j in range(y+1):\n",
    "        for k in range(z+1):\n",
    "            if i+j+k!=n:\n",
    "                newlist.append([i,j,k])          \n",
    "print(newlist)"
   ]
  },
  {
   "cell_type": "markdown",
   "id": "05c5c61b",
   "metadata": {},
   "source": [
    "9\\ Find the runner-up score"
   ]
  },
  {
   "cell_type": "code",
   "execution_count": null,
   "id": "d8ade97a",
   "metadata": {},
   "outputs": [],
   "source": [
    "if __name__ == '__main__':\n",
    "    n = int(raw_input())\n",
    "    arr = map(int, raw_input().split())\n",
    "first=-100\n",
    "second=-100\n",
    "for i in range(n):\n",
    "    if(arr[i]>first):\n",
    "        second=first\n",
    "        first=arr[i]\n",
    "    if(arr[i]>second and arr[i]<first):\n",
    "        second=arr[i]\n",
    "print(second)"
   ]
  },
  {
   "cell_type": "markdown",
   "id": "53f5e807",
   "metadata": {},
   "source": [
    "10\\ Nested list"
   ]
  },
  {
   "cell_type": "code",
   "execution_count": null,
   "id": "16aee51a",
   "metadata": {},
   "outputs": [],
   "source": [
    "if __name__ == '__main__':\n",
    "  namelist=[] \n",
    "  scorelist=[]\n",
    "  for _ in range(int(raw_input())):\n",
    "        namelist.append(raw_input())\n",
    "        scorelist.append(float(raw_input()))\n",
    "        \n",
    "lista=dict(zip(namelist,scorelist))\n",
    "slist=sorted(set(scorelist))[1]\n",
    "pag=[]\n",
    "for i in range(len(namelist)):\n",
    "    if lista[namelist[i]]==slist:\n",
    "        pag.append(namelist[i])\n",
    "pag = sorted(pag)\n",
    "for i in range(len(pag)):\n",
    "    print(pag[i])\n",
    "        "
   ]
  },
  {
   "cell_type": "markdown",
   "id": "f53dac67",
   "metadata": {},
   "source": [
    "11\\ Find the percentage"
   ]
  },
  {
   "cell_type": "code",
   "execution_count": null,
   "id": "2128b9e7",
   "metadata": {},
   "outputs": [],
   "source": [
    "if __name__ == '__main__':\n",
    "    n = int(raw_input())\n",
    "    student_marks = {}\n",
    "    for _ in range(n):\n",
    "        line = raw_input().split()\n",
    "        name, scores = line[0], line[1:]\n",
    "        scores = map(float, scores)\n",
    "        student_marks[name] = scores\n",
    "    query_name = raw_input()\n",
    "\n",
    "daje=(student_marks[query_name][0]+student_marks[query_name][1]+student_marks[query_name][2])/3\n",
    "print( '%.2f' %daje)\n"
   ]
  },
  {
   "cell_type": "markdown",
   "id": "b53b527a",
   "metadata": {},
   "source": [
    "12\\ Lists"
   ]
  },
  {
   "cell_type": "code",
   "execution_count": null,
   "id": "74711213",
   "metadata": {},
   "outputs": [],
   "source": [
    "if __name__ == '__main__':\n",
    "    N = int(raw_input())\n",
    "    a=[]\n",
    "    for i in range(0,N):\n",
    "        b=raw_input().split()\n",
    "        if b[0]=='print':\n",
    "            print(a)\n",
    "        elif b[0]=='insert':\n",
    "            a.insert(int(b[1]),int(b[2]))\n",
    "        elif b[0]=='remove':\n",
    "            a.remove(int(b[1]))\n",
    "        elif b[0]=='append':\n",
    "            a.append(int(b[1]))\n",
    "        elif b[0]=='pop':\n",
    "            a.pop();\n",
    "        elif b[0]=='sort':\n",
    "            a.sort();\n",
    "        else:\n",
    "            a.reverse();"
   ]
  },
  {
   "cell_type": "markdown",
   "id": "c3204bfd",
   "metadata": {},
   "source": [
    " 13\\ Tuples"
   ]
  },
  {
   "cell_type": "code",
   "execution_count": null,
   "id": "a3f3c995",
   "metadata": {},
   "outputs": [],
   "source": [
    "if __name__ == '__main__':\n",
    "    n = int(raw_input())\n",
    "    integer_list = map(int, raw_input().split())\n",
    "    tupla=tuple(integer_list)\n",
    "    print(hash(tupla))"
   ]
  },
  {
   "cell_type": "markdown",
   "id": "e91ca22b",
   "metadata": {},
   "source": [
    "14\\ Swap case"
   ]
  },
  {
   "cell_type": "code",
   "execution_count": null,
   "id": "f3cd9211",
   "metadata": {},
   "outputs": [],
   "source": [
    "def swap_case(s):\n",
    "    contenitore=''\n",
    "    for _ in s:\n",
    "        if _.isupper()==True:\n",
    "            contenitore += (_.lower());\n",
    "        elif _.islower()==True:\n",
    "            contenitore += (_.upper());\n",
    "        else:\n",
    "            contenitore += (_);\n",
    "    return contenitore\n",
    "\n",
    "if __name__ == '__main__':\n",
    "    s = raw_input()\n",
    "    result = swap_case(s)\n",
    "    print result"
   ]
  },
  {
   "cell_type": "markdown",
   "id": "25960369",
   "metadata": {},
   "source": [
    "15\\ String split and join"
   ]
  },
  {
   "cell_type": "code",
   "execution_count": null,
   "id": "a49213b0",
   "metadata": {},
   "outputs": [],
   "source": [
    "def split_and_join(line):\n",
    "   line=line.split(\" \")\n",
    "   result=\"-\".join(line)\n",
    "   print(result)\n",
    "   \n",
    "if __name__ == '__main__':\n",
    "    line = raw_input()\n",
    "    result = split_and_join(line)\n",
    "    print result"
   ]
  },
  {
   "cell_type": "markdown",
   "id": "9fedd8de",
   "metadata": {},
   "source": [
    "16\\ What's your name"
   ]
  },
  {
   "cell_type": "code",
   "execution_count": null,
   "id": "96ad297a",
   "metadata": {},
   "outputs": [],
   "source": [
    "def print_full_name(first, last):\n",
    "   print(\"Hello \"+first+\" \"+last+ \"! You just delved into python.\")\n",
    "     \n",
    "if __name__ == '__main__':\n",
    "    first_name = raw_input()\n",
    "    last_name = raw_input()\n",
    "    print_full_name(first_name, last_name)"
   ]
  },
  {
   "cell_type": "markdown",
   "id": "23b9dfbb",
   "metadata": {},
   "source": [
    "17\\ Mutations"
   ]
  },
  {
   "cell_type": "code",
   "execution_count": null,
   "id": "8683da1e",
   "metadata": {},
   "outputs": [],
   "source": [
    "def mutate_string(string, position, character):\n",
    "    string2= string[:position]+character+string[position+1:]\n",
    "    return string2\n",
    "\n",
    "if __name__ == '__main__':\n",
    "    s = raw_input()\n",
    "    i, c = raw_input().split()\n",
    "    s_new = mutate_string(s, int(i), c)\n",
    "    print s_new"
   ]
  },
  {
   "cell_type": "markdown",
   "id": "a561db62",
   "metadata": {},
   "source": [
    "18\\ Find a string"
   ]
  },
  {
   "cell_type": "code",
   "execution_count": null,
   "id": "91383466",
   "metadata": {},
   "outputs": [],
   "source": [
    "def count_substring(string, sub_string):\n",
    "    count=0\n",
    "    for char in range(len(string)-len(sub_string)+1):\n",
    "       if (string[char:char+len(sub_string)]==sub_string):\n",
    "        count += 1\n",
    "    return count\n",
    "\n",
    "if __name__ == '__main__':\n",
    "    string = raw_input().strip()\n",
    "    sub_string = raw_input().strip()\n",
    "    \n",
    "    count = count_substring(string, sub_string)\n",
    "    print count"
   ]
  },
  {
   "cell_type": "markdown",
   "id": "5d6abf5a",
   "metadata": {},
   "source": [
    "19\\ String validators"
   ]
  },
  {
   "cell_type": "code",
   "execution_count": null,
   "id": "d7ff121c",
   "metadata": {},
   "outputs": [],
   "source": [
    "def mario(s):\n",
    "    for i in range(len(s)):\n",
    "        if(s[i].isalnum()):\n",
    "            return True;\n",
    "            break;\n",
    "    return False;\n",
    "        \n",
    "def wario(s):\n",
    "    for i in range(len(s)):\n",
    "        if(s[i].isalpha()):\n",
    "            return True;\n",
    "            break;\n",
    "    return False;\n",
    "\n",
    "def flavio(s):\n",
    "    for i in range(len(s)):\n",
    "        if(s[i].isdigit()):\n",
    "            return True;\n",
    "            break;\n",
    "    return False;\n",
    "\n",
    "def dario(s):\n",
    "    for i in range(len(s)):\n",
    "        if(s[i].islower()):\n",
    "            return True;\n",
    "            break;\n",
    "    return False; \n",
    "     \n",
    "def ilario(s):\n",
    "    for i in range(len(s)):\n",
    "        if(s[i].isupper()):\n",
    "            return True;\n",
    "            break;\n",
    "    return False;\n",
    " \n",
    "    \n",
    "if __name__ == '__main__':\n",
    "    s = raw_input()\n",
    "    \n",
    "\n",
    "    res1 = mario(s)\n",
    "    res2 = wario(s)\n",
    "    res3 = flavio(s)\n",
    "    res4 = dario(s)\n",
    "    res5 = ilario(s)\n",
    "    print(res1)\n",
    "    print(res2)\n",
    "    print(res3)\n",
    "    print(res4)\n",
    "    print(res5)"
   ]
  },
  {
   "cell_type": "markdown",
   "id": "c7b94e44",
   "metadata": {},
   "source": [
    "20\\ Text alignment"
   ]
  },
  {
   "cell_type": "code",
   "execution_count": null,
   "id": "e693df0d",
   "metadata": {},
   "outputs": [],
   "source": [
    "spess = int(input()) \n",
    "l = 'H'\n",
    "for i in range(spess):\n",
    "    print((l*i).rjust(spess-1)+l+(l*i).ljust(spess-1))\n",
    "for i in range(spess+1):\n",
    "    print((l*spess).center(spess*2)+(l*spess).center(spess*6))\n",
    "for i in range((spess+1)//2):\n",
    "    print((l*spess*5).center(spess*6))    \n",
    "for i in range(spess+1):\n",
    "    print((l*spess).center(spess*2)+(l*spess).center(spess*6))    \n",
    "for i in range(spess):\n",
    "    print(((l*(spess-i-1)).rjust(spess)+l+(l*(spess-i-1)).ljust(spess)).rjust(spess*6))"
   ]
  },
  {
   "cell_type": "markdown",
   "id": "fcb52b58",
   "metadata": {},
   "source": [
    "21\\ Text wrap"
   ]
  },
  {
   "cell_type": "code",
   "execution_count": null,
   "id": "0d79a428",
   "metadata": {},
   "outputs": [],
   "source": [
    "import textwrap\n",
    "\n",
    "def wrap(string, max_width):\n",
    "    return '\\n'.join(textwrap.wrap(string,max_width))\n",
    "\n",
    "if __name__ == '__main__':\n",
    "    string, max_width = raw_input(), int(raw_input())\n",
    "    result = wrap(string, max_width)\n",
    "    print result\n"
   ]
  },
  {
   "cell_type": "markdown",
   "id": "308b439e",
   "metadata": {},
   "source": [
    "22\\ Designer door mat"
   ]
  },
  {
   "cell_type": "code",
   "execution_count": null,
   "id": "138e688c",
   "metadata": {},
   "outputs": [],
   "source": [
    "N, M = map(int,raw_input().split())\n",
    "for i in range(1,N,2): \n",
    "    print((i * \".|.\").center(M, \"-\"))\n",
    "print(\"WELCOME\".center(M,\"-\"))\n",
    "for i in range(N-2,-1,-2): \n",
    "    print((i * \".|.\").center(M, \"-\"))"
   ]
  },
  {
   "cell_type": "markdown",
   "id": "4b016473",
   "metadata": {},
   "source": [
    "23\\ String formatting"
   ]
  },
  {
   "cell_type": "code",
   "execution_count": null,
   "id": "0fe920d7",
   "metadata": {},
   "outputs": [],
   "source": [
    "def print_formatted(number):\n",
    "    width = len(bin(number)[2:])\n",
    "    for i in range(1, number+1):\n",
    "        deci = str(i)\n",
    "        octa = oct(i)[1:]\n",
    "        hexa = hex(i)[2:].upper()\n",
    "        bina = bin(i)[2:]\n",
    "        \n",
    "        print(deci.rjust(width)+' '+octa.rjust(width)+' '+hexa.rjust(width)+' '+bina.rjust(width))\n",
    "\n",
    "if __name__ == '__main__':\n",
    "    n = int(raw_input())\n",
    "    print_formatted(n)"
   ]
  },
  {
   "cell_type": "markdown",
   "id": "810e5078",
   "metadata": {},
   "source": [
    "24\\ Alphabet rangoli"
   ]
  },
  {
   "cell_type": "code",
   "execution_count": null,
   "id": "295c4500",
   "metadata": {},
   "outputs": [],
   "source": [
    "def print_rangoli(size):\n",
    "    lim  = size*4-3\n",
    "    stringa = ''\n",
    "\n",
    "    for x in range(1,size+1):\n",
    "        for j in range(0,x):\n",
    "            stringa += chr(96+size-j)\n",
    "            if len(stringa) < lim :\n",
    "                stringa += '-'\n",
    "        for k in range(x-1,0,-1):    \n",
    "            stringa += chr(97+size-k)\n",
    "            if len(stringa) < lim :\n",
    "                stringa += '-'\n",
    "        print(stringa.center(lim,'-'))\n",
    "        stringa = ''\n",
    "\n",
    "    for i in range(size-1,0,-1):\n",
    "        stringa = ''\n",
    "        for j in range(0,i):\n",
    "            stringa += chr(96+size-j)\n",
    "            if len(stringa) < lim :\n",
    "                stringa += '-'\n",
    "        for k in range(i-1,0,-1):\n",
    "            stringa += chr(97+size-k)\n",
    "            if len(stringa) < lim :\n",
    "                stringa += '-'\n",
    "        print(stringa.center(lim,'-'))\n",
    "if __name__ == '__main__':\n",
    "    n = int(raw_input())\n",
    "    print_rangoli(n)"
   ]
  },
  {
   "cell_type": "markdown",
   "id": "829659d5",
   "metadata": {},
   "source": [
    "25\\ Capitalize"
   ]
  },
  {
   "cell_type": "code",
   "execution_count": null,
   "id": "9b14644f",
   "metadata": {},
   "outputs": [],
   "source": [
    "import math\n",
    "import os\n",
    "import random\n",
    "import re\n",
    "import sys\n",
    "\n",
    "\n",
    "def solve(s):\n",
    "    for _ in s.split():\n",
    "        s=s.replace(_,_.capitalize())\n",
    "    return s\n",
    "if __name__ == '__main__':\n",
    "    fptr = open(os.environ['OUTPUT_PATH'], 'w')\n",
    "\n",
    "    s = raw_input()\n",
    "\n",
    "    result = solve(s)\n",
    "\n",
    "    fptr.write(result + '\\n')\n",
    "\n",
    "    fptr.close()"
   ]
  },
  {
   "cell_type": "markdown",
   "id": "f8211278",
   "metadata": {},
   "source": [
    "26\\ The minion game"
   ]
  },
  {
   "cell_type": "code",
   "execution_count": null,
   "id": "6c8b6325",
   "metadata": {},
   "outputs": [],
   "source": [
    "def minion_game(string):\n",
    "    lista = set(['a','e','i','o','u','A','E','I','O','U'])\n",
    "    consonanti = 0\n",
    "    filippo = 0\n",
    "\n",
    "    n = len(string)\n",
    "    for i, l in enumerate(string):\n",
    "        if l in lista:\n",
    "            filippo += n-i\n",
    "        else:\n",
    "            consonanti += n-i\n",
    "\n",
    "    if filippo == consonanti:\n",
    "        print \"Draw\"\n",
    "    elif filippo > consonanti:\n",
    "        print \"Kevin {}\".format(filippo)\n",
    "    else:\n",
    "        print \"Stuart {}\".format(consonanti)\n",
    "\n",
    "if __name__ == '__main__':\n",
    "    s = raw_input()\n",
    "    minion_game(s)"
   ]
  },
  {
   "cell_type": "markdown",
   "id": "2318aa53",
   "metadata": {},
   "source": [
    "27\\ Merge the tools"
   ]
  },
  {
   "cell_type": "code",
   "execution_count": null,
   "id": "57ca3a2b",
   "metadata": {},
   "outputs": [],
   "source": [
    "def merge_the_tools(string, k):\n",
    "\n",
    "    t = []\n",
    "    len_t = 0\n",
    "    for item in string:\n",
    "        len_t += 1\n",
    "        if item not in t:\n",
    "            t.append(item)\n",
    "        if len_t == k:\n",
    "            print (''.join(t))\n",
    "            t = []\n",
    "            len_t = 0\n",
    "\n",
    "\n",
    "if __name__ == '__main__':\n",
    "    string, k = raw_input(), int(raw_input())\n",
    "    merge_the_tools(string, k)"
   ]
  },
  {
   "cell_type": "markdown",
   "id": "3c8a0eff",
   "metadata": {},
   "source": [
    "28\\ Introduction to sets"
   ]
  },
  {
   "cell_type": "code",
   "execution_count": null,
   "id": "8548f8cb",
   "metadata": {},
   "outputs": [],
   "source": [
    "from __future__ import division\n",
    "def average(array):\n",
    "    cont = 0\n",
    "    ar=set(array)\n",
    "    for _ in ar:\n",
    "        cont += _\n",
    "    res= cont/len(ar)\n",
    "    return(res)\n",
    "if __name__ == '__main__':\n",
    "    n = int(raw_input())\n",
    "    arr = map(int, raw_input().split())\n",
    "    result = average(arr)\n",
    "    print result"
   ]
  },
  {
   "cell_type": "markdown",
   "id": "7755d54e",
   "metadata": {},
   "source": [
    "29\\ Symmetric difference"
   ]
  },
  {
   "cell_type": "code",
   "execution_count": null,
   "id": "9b09a901",
   "metadata": {},
   "outputs": [],
   "source": [
    "a=int(raw_input())\n",
    "b=raw_input()\n",
    "c=int(raw_input())\n",
    "d=raw_input()\n",
    "lista=b.split()\n",
    "listb=d.split()\n",
    "set1=set(lista)\n",
    "set2=set(listb)\n",
    "inter=set1.intersection(set2)\n",
    "setbono1=set1.difference(inter)\n",
    "setbono2=set2.difference(inter)\n",
    "setbono=setbono1.union(setbono2)\n",
    "print('\\n'.join(sorted(setbono, key=int)))"
   ]
  },
  {
   "cell_type": "markdown",
   "id": "fd31b89c",
   "metadata": {},
   "source": [
    "30\\ No idea!"
   ]
  },
  {
   "cell_type": "code",
   "execution_count": null,
   "id": "ad57e764",
   "metadata": {},
   "outputs": [],
   "source": [
    "a,b=list(map(int, raw_input().split()))\n",
    "ns=list(map(int, raw_input().split()))\n",
    "h=set(map(int, raw_input().split()))\n",
    "s=set(map(int, raw_input().split()))\n",
    "ris=0\n",
    "for _ in ns:\n",
    "    if _ in h:\n",
    "        ris+=1\n",
    "    elif _ in s:\n",
    "        ris-=1\n",
    "print(ris)"
   ]
  },
  {
   "cell_type": "markdown",
   "id": "e1037f85",
   "metadata": {},
   "source": [
    "31\\ Set.add()"
   ]
  },
  {
   "cell_type": "code",
   "execution_count": null,
   "id": "aa09311e",
   "metadata": {},
   "outputs": [],
   "source": [
    "set1 = set()\n",
    "a=int(raw_input())\n",
    "for _ in range(a):\n",
    "    set1.add(raw_input())\n",
    "print(len(set1))"
   ]
  },
  {
   "cell_type": "markdown",
   "id": "e31d66b3",
   "metadata": {},
   "source": [
    "32\\ Set .discard(), .remove(), .pop()"
   ]
  },
  {
   "cell_type": "code",
   "execution_count": null,
   "id": "27d3f464",
   "metadata": {},
   "outputs": [],
   "source": [
    "#this exercise is written in python 3 language\n",
    "n = int(input())\n",
    "set1 = set(map(int,input().split()))\n",
    "comandi = int(input())\n",
    "for i in range(comandi):\n",
    "    ae = input().split()\n",
    "    if ae[0]==\"remove\":\n",
    "        set1.remove(int(ae[1]))\n",
    "    elif ae[0]==\"discard\":\n",
    "        set1.discard(int(ae[1]))\n",
    "    else :\n",
    "        set1.pop()\n",
    "print(sum(list(set1)))"
   ]
  },
  {
   "cell_type": "markdown",
   "id": "0cd34a23",
   "metadata": {},
   "source": [
    "33\\ Set.union()"
   ]
  },
  {
   "cell_type": "code",
   "execution_count": null,
   "id": "73702273",
   "metadata": {},
   "outputs": [],
   "source": [
    "n=int(raw_input())\n",
    "set1=set(map(int,raw_input().split()))\n",
    "a=int(raw_input())\n",
    "set2=set(map(int,raw_input().split()))\n",
    "setbono=set1.union(set2)\n",
    "cont=0\n",
    "for _ in setbono:\n",
    "    cont+=1\n",
    "print(cont)"
   ]
  },
  {
   "cell_type": "markdown",
   "id": "e06d1ad1",
   "metadata": {},
   "source": [
    "34\\ Set.intersection()"
   ]
  },
  {
   "cell_type": "code",
   "execution_count": null,
   "id": "46f4ac3d",
   "metadata": {},
   "outputs": [],
   "source": [
    "n=int(raw_input())\n",
    "set1=set(map(int,raw_input().split()))\n",
    "a=int(raw_input())\n",
    "set2=set(map(int,raw_input().split()))\n",
    "setbono=set1.intersection(set2)\n",
    "cont=0\n",
    "for _ in setbono:\n",
    "    cont+=1\n",
    "print(cont)"
   ]
  },
  {
   "cell_type": "markdown",
   "id": "8dbceea3",
   "metadata": {},
   "source": [
    "35\\ Set.difference() operation"
   ]
  },
  {
   "cell_type": "code",
   "execution_count": null,
   "id": "b618f135",
   "metadata": {},
   "outputs": [],
   "source": [
    "n=int(raw_input())\n",
    "set1=set(map(int,raw_input().split()))\n",
    "a=int(raw_input())\n",
    "set2=set(map(int,raw_input().split()))\n",
    "setbono=set1.difference(set2)\n",
    "cont=0\n",
    "for _ in setbono:\n",
    "    cont+=1\n",
    "print(cont)"
   ]
  },
  {
   "cell_type": "markdown",
   "id": "a66fb87c",
   "metadata": {},
   "source": [
    "36\\ Set.symmetric_difference() operation"
   ]
  },
  {
   "cell_type": "code",
   "execution_count": null,
   "id": "28ca0ed0",
   "metadata": {},
   "outputs": [],
   "source": [
    "n=int(raw_input())\n",
    "set1=set(map(int,raw_input().split()))\n",
    "a=int(raw_input())\n",
    "set2=set(map(int,raw_input().split()))\n",
    "setbono=set1.symmetric_difference(set2)\n",
    "cont=0\n",
    "for _ in setbono:\n",
    "    cont+=1\n",
    "print(cont)"
   ]
  },
  {
   "cell_type": "markdown",
   "id": "e9a2cf96",
   "metadata": {},
   "source": [
    "37\\ Set Mutations"
   ]
  },
  {
   "cell_type": "code",
   "execution_count": null,
   "id": "ae294347",
   "metadata": {},
   "outputs": [],
   "source": [
    "a = int(raw_input())\n",
    "\n",
    "set1 = set(map(int, raw_input().split()))\n",
    "\n",
    "n = int(raw_input())\n",
    "\n",
    "for i in range(n):\n",
    "    operation = raw_input().split()\n",
    "    if operation[0] == 'intersection_update':\n",
    "        temp_set1 = set(map(int, raw_input().split()))\n",
    "        set1.intersection_update(temp_set1)\n",
    "    elif operation[0] == 'update':\n",
    "        temp_set1 = set(map(int, raw_input().split()))\n",
    "        set1.update(temp_set1)\n",
    "    elif operation[0] == 'symmetric_difference_update':\n",
    "        temp_set1 = set(map(int, raw_input().split()))\n",
    "        set1.symmetric_difference_update(temp_set1)\n",
    "    elif operation[0] == 'difference_update':\n",
    "        temp_set1 = set(map(int, raw_input().split()))\n",
    "        set1.difference_update(temp_set1)\n",
    "    else :\n",
    "        assert False\n",
    "\n",
    "print(sum(set1))"
   ]
  },
  {
   "cell_type": "markdown",
   "id": "8574473c",
   "metadata": {},
   "source": [
    "38\\ The Captain's room"
   ]
  },
  {
   "cell_type": "code",
   "execution_count": null,
   "id": "83e03bee",
   "metadata": {},
   "outputs": [],
   "source": [
    "n=int(raw_input())\n",
    "uo=map(int,raw_input().split())\n",
    "uo=sorted(uo)\n",
    "for _ in range(len(uo)):\n",
    "    if(_ != len(uo)-1):\n",
    "        if(uo[_]!=uo[_-1] and uo[_]!=uo[_+1]):\n",
    "            print(uo[_])\n",
    "            break;\n",
    "    else:\n",
    "        print(uo[_])"
   ]
  },
  {
   "cell_type": "markdown",
   "id": "9615a15d",
   "metadata": {},
   "source": [
    "39\\ Check subset"
   ]
  },
  {
   "cell_type": "code",
   "execution_count": null,
   "id": "2da9e03c",
   "metadata": {},
   "outputs": [],
   "source": [
    "n= int(raw_input())\n",
    "for _ in range(n):\n",
    "    na = int(raw_input())\n",
    "    setA = set(raw_input().split())\n",
    "    nb = int(raw_input())\n",
    "    setB = set(raw_input().split())\n",
    "    print(setA.issubset(setB))  "
   ]
  },
  {
   "cell_type": "markdown",
   "id": "44223e92",
   "metadata": {},
   "source": [
    "40\\ Check strict superset"
   ]
  },
  {
   "cell_type": "code",
   "execution_count": null,
   "id": "025bf117",
   "metadata": {},
   "outputs": [],
   "source": [
    "set1=set(raw_input().split())\n",
    "n=int(raw_input())\n",
    "ris=True\n",
    "for _ in range(n):\n",
    "    set2 = set(raw_input().split())\n",
    "    if set2.issubset(set1)==False:\n",
    "        ris = False\n",
    "    if len(set2) >= len(set1):\n",
    "        ris = False\n",
    "print(ris)"
   ]
  },
  {
   "cell_type": "markdown",
   "id": "62cda155",
   "metadata": {},
   "source": [
    "41\\ Collections.counter()"
   ]
  },
  {
   "cell_type": "code",
   "execution_count": null,
   "id": "917c79bb",
   "metadata": {},
   "outputs": [],
   "source": [
    "from collections import Counter\n",
    "ns = int(raw_input())\n",
    "ss = Counter(map(int, raw_input().split()))\n",
    "nc = int(raw_input())\n",
    "earn= 0\n",
    "for _ in range(nc):\n",
    "    size, price = map(int, raw_input().split())\n",
    "    if ss[size]:\n",
    "        earn += price\n",
    "        ss[size] -= 1\n",
    "print(earn)"
   ]
  },
  {
   "cell_type": "markdown",
   "id": "2f7655a8",
   "metadata": {},
   "source": [
    "42\\ Defaultdict Tutorial"
   ]
  },
  {
   "cell_type": "code",
   "execution_count": null,
   "id": "2bbb79c4",
   "metadata": {},
   "outputs": [],
   "source": [
    "from collections import defaultdict\n",
    "n, m = map(int,raw_input().split())\n",
    "a = defaultdict(list)\n",
    "for _ in range(1, n + 1):\n",
    "    a[raw_input()].append(_)\n",
    "for _ in range(1, m + 1):\n",
    "    ao = raw_input()\n",
    "    if len(a[ao]) > 0:\n",
    "        print(\" \".join(str(b) for b in a[ao]))\n",
    "    else:\n",
    "        print(-1)"
   ]
  },
  {
   "cell_type": "markdown",
   "id": "ea5675d6",
   "metadata": {},
   "source": [
    "43\\ Collections.namedtuple()"
   ]
  },
  {
   "cell_type": "code",
   "execution_count": null,
   "id": "2e5f4691",
   "metadata": {},
   "outputs": [],
   "source": [
    "from collections import namedtuple\n",
    "n = int(raw_input())\n",
    "attr = raw_input()\n",
    "student = namedtuple('Student',attr)\n",
    "students = []\n",
    "for i in range(n):\n",
    "    students.append(student(*raw_input().split()))\n",
    "print sum(list(map(lambda x: float(x.MARKS),students)))/len(students)"
   ]
  },
  {
   "cell_type": "markdown",
   "id": "73b9fe5b",
   "metadata": {},
   "source": [
    "44\\ Collections.ordereddict()"
   ]
  },
  {
   "cell_type": "code",
   "execution_count": null,
   "id": "43796d02",
   "metadata": {},
   "outputs": [],
   "source": [
    "#this exercise is written in python 3 language\n",
    "from collections import OrderedDict\n",
    "n=int(input())\n",
    "diz = OrderedDict()\n",
    "for i in range(n):\n",
    "    item, spazio, prezzo=input().rpartition(' ')\n",
    "    diz[item] = diz.get(item, 0) + int(prezzo)\n",
    "for item,prezzo in diz.items():\n",
    "     print(item,prezzo)"
   ]
  },
  {
   "cell_type": "markdown",
   "id": "a56ff012",
   "metadata": {},
   "source": [
    "45\\ Word order"
   ]
  },
  {
   "cell_type": "code",
   "execution_count": null,
   "id": "93f906ab",
   "metadata": {},
   "outputs": [],
   "source": [
    "n=int(raw_input().strip())\n",
    "cont={}\n",
    "pars=[]\n",
    "for i in range(n):\n",
    "  par = raw_input().strip()\n",
    "  if par in cont:\n",
    "    cont[par] += 1\n",
    "  else:\n",
    "    cont[par] = 1\n",
    "    pars.append(par)\n",
    "print len(pars)\n",
    "print ' '.join([str(cont[par]) for par in pars])"
   ]
  },
  {
   "cell_type": "markdown",
   "id": "9e957a12",
   "metadata": {},
   "source": [
    "46\\ Collections.deque()"
   ]
  },
  {
   "cell_type": "code",
   "execution_count": null,
   "id": "6e285d56",
   "metadata": {},
   "outputs": [],
   "source": [
    "from collections import deque\n",
    "n=int(raw_input())\n",
    "a = deque()\n",
    "for _ in range(n):\n",
    "    command = raw_input().split()\n",
    "    if command[0] == 'append':\n",
    "        a.append(command[1])\n",
    "    elif command[0] == 'appendleft':\n",
    "        a.appendleft(command[1])\n",
    "    elif command[0] == 'pop':\n",
    "        a.pop()\n",
    "    else:\n",
    "        a.popleft()\n",
    "print(' '.join(a))"
   ]
  },
  {
   "cell_type": "markdown",
   "id": "61ca862b",
   "metadata": {},
   "source": [
    "47\\ Piling Up!"
   ]
  },
  {
   "cell_type": "code",
   "execution_count": null,
   "id": "302126df",
   "metadata": {},
   "outputs": [],
   "source": [
    "from collections import deque\n",
    "n=int(raw_input())\n",
    "for _ in range(n):\n",
    "    banda = True\n",
    "    raw_input()\n",
    "    a = deque(map(int, raw_input().strip().split()))\n",
    "    if (a[0] >= a[-1]):\n",
    "        max = a.popleft()\n",
    "    else:\n",
    "        max = a.pop()\n",
    "    while a:\n",
    "        if (len(a) == 1):\n",
    "            if (a[0] <= max):\n",
    "                break\n",
    "            else:\n",
    "                banda = False\n",
    "                break;\n",
    "        else:\n",
    "            if a[0] <= max and a[-1] <= max:\n",
    "                if a[0] >= a[-1]:\n",
    "                    max = a.popleft()\n",
    "                else:\n",
    "                   max = a.pop()\n",
    "            elif a[0] <= max:\n",
    "                max = a.popleft()\n",
    "            elif a[-1] <= max:\n",
    "                max = a.pop()\n",
    "            else:\n",
    "                banda = False\n",
    "                break;\n",
    "    if banda:\n",
    "        print \"Yes\"\n",
    "    else:\n",
    "        print \"No\""
   ]
  },
  {
   "cell_type": "markdown",
   "id": "5759be68",
   "metadata": {},
   "source": [
    "48\\ Company Logo"
   ]
  },
  {
   "cell_type": "code",
   "execution_count": null,
   "id": "534e1165",
   "metadata": {},
   "outputs": [],
   "source": [
    "from sys import stdin\n",
    "a = stdin.readline()\n",
    "b = {}\n",
    "for c in a:\n",
    "    if c in b:\n",
    "        b[c] += 1\n",
    "    else:\n",
    "        b[c] = 1\n",
    "data = [[b[c],c] for c in b.keys()]\n",
    "data.sort(key = lambda e: [-e[0],e[1]])\n",
    "for x in range(3):\n",
    "    print data[x][1], data[x][0]"
   ]
  },
  {
   "cell_type": "markdown",
   "id": "a643bbac",
   "metadata": {},
   "source": [
    "49\\ Calendar Module"
   ]
  },
  {
   "cell_type": "code",
   "execution_count": null,
   "id": "599d5f25",
   "metadata": {},
   "outputs": [],
   "source": [
    "import calendar\n",
    "mese, giorno, anno= map(int,raw_input().split())\n",
    "print (calendar.day_name[calendar.weekday(anno, mese, giorno)].upper())"
   ]
  },
  {
   "cell_type": "markdown",
   "id": "8d1ed057",
   "metadata": {},
   "source": [
    "50\\ Time delta"
   ]
  },
  {
   "cell_type": "code",
   "execution_count": null,
   "id": "90e32115",
   "metadata": {},
   "outputs": [],
   "source": [
    "from datetime import datetime, timedelta\n",
    "def daje():\n",
    "    a = raw_input()\n",
    "    t = datetime.strptime(a[:-6], \"%a %d %b %Y %H:%M:%S\")\n",
    "    b = int(a[-2:])  \n",
    "    c = int(a[-4:-2])\n",
    "    if a[-5] == '+':\n",
    "        t -= timedelta(hours=c, minutes=b)\n",
    "    else:\n",
    "        t += timedelta(hours=c, minutes=b)\n",
    "    return t\n",
    "for _ in xrange(input()):\n",
    "    t1 = daje()\n",
    "    t2 = daje()\n",
    "    d = abs(t1 - t2)\n",
    "    print d.days * 86400 + d.seconds\n",
    "#I looked at the solutions for this exercise"
   ]
  },
  {
   "cell_type": "markdown",
   "id": "c53d4e3e",
   "metadata": {},
   "source": [
    "51\\ Exceptions"
   ]
  },
  {
   "cell_type": "code",
   "execution_count": null,
   "id": "8d3db2de",
   "metadata": {},
   "outputs": [],
   "source": [
    "#this exercise is written in python 3 language\n",
    "n=int(input())\n",
    "for _ in range(n):\n",
    "    a, b = input().split()\n",
    "    try:\n",
    "        print(int(a) // int(b))\n",
    "    except ZeroDivisionError as e:\n",
    "        print (\"Error Code:\",e)\n",
    "    except ValueError as e:\n",
    "        print (\"Error Code:\",e)"
   ]
  },
  {
   "cell_type": "markdown",
   "id": "674941da",
   "metadata": {},
   "source": [
    "52\\ Zipped!"
   ]
  },
  {
   "cell_type": "code",
   "execution_count": null,
   "id": "17965612",
   "metadata": {},
   "outputs": [],
   "source": [
    "n,x = map(int,raw_input().split())\n",
    "a=[]\n",
    "for _ in range(x):\n",
    "    a.append(map(float,raw_input().split()) )\n",
    "for _ in range(n):\n",
    "    print(sum(zip(*a)[_]))/x"
   ]
  },
  {
   "cell_type": "markdown",
   "id": "940f5c67",
   "metadata": {},
   "source": [
    "53\\ Athlete Sort"
   ]
  },
  {
   "cell_type": "code",
   "execution_count": null,
   "id": "ae847563",
   "metadata": {},
   "outputs": [],
   "source": [
    "import sys\n",
    "if __name__ == \"__main__\":\n",
    "    n,m =raw_input().strip().split(' ')\n",
    "    n,m =[int(n), int(m)]\n",
    "    vett =[]\n",
    "    for vett_i in range(n):\n",
    "       vett_t = [int(vett_temp) for vett_temp in raw_input().strip().split(' ')]\n",
    "       vett.append(vett_t)\n",
    "    a = int(raw_input().strip())\n",
    "    \n",
    "    ordi_vett = sorted(vett, key = lambda x : x[a])\n",
    "    for row in ordi_vett:\n",
    "        print(' '.join(str(y) for y in row))"
   ]
  },
  {
   "cell_type": "markdown",
   "id": "4e0712d7",
   "metadata": {},
   "source": [
    "54\\ ginortS"
   ]
  },
  {
   "cell_type": "code",
   "execution_count": null,
   "id": "0ad80721",
   "metadata": {},
   "outputs": [],
   "source": [
    "if __name__=='__main__':\n",
    "    stringa = raw_input()\n",
    "def sort_String(stringa):\n",
    "    piccole = []\n",
    "    grandi = []\n",
    "    dispari = []\n",
    "    pari = []\n",
    "    for _ in stringa:\n",
    "        if _.islower():\n",
    "            piccole.append(_)\n",
    "        elif _.isupper():\n",
    "            grandi.append(_)\n",
    "        elif _.isdigit():\n",
    "            if int(_)%2==0:\n",
    "                pari.append(_)\n",
    "            else:\n",
    "                dispari.append(_)\n",
    "    return (''.join(sorted(piccole)+sorted(grandi)+sorted(dispari)+sorted(pari)))    \n",
    "print (sort_String(stringa))"
   ]
  },
  {
   "cell_type": "markdown",
   "id": "7b744f4e",
   "metadata": {},
   "source": [
    "55\\ Map and Lambda function"
   ]
  },
  {
   "cell_type": "code",
   "execution_count": null,
   "id": "f8260ff7",
   "metadata": {},
   "outputs": [],
   "source": [
    "cube = lambda x:x**3  \n",
    "def fibonacci(n):\n",
    "    lista=[0, 1]\n",
    "    for i in range(2, n):\n",
    "        lista.append(lista[i-1] + lista[i-2])\n",
    "    return(lista[0:n])   \n",
    "if __name__ == '__main__':\n",
    "    n = int(raw_input())\n",
    "    print map(cube, fibonacci(n))"
   ]
  },
  {
   "cell_type": "markdown",
   "id": "ae199ffd",
   "metadata": {},
   "source": [
    "56\\ Detect floating point number"
   ]
  },
  {
   "cell_type": "code",
   "execution_count": null,
   "id": "d94ddeb4",
   "metadata": {},
   "outputs": [],
   "source": [
    "import re\n",
    "T=int(raw_input())\n",
    "for _ in range(T):\n",
    "    print bool(re.match(r'^[-+]?[0-9]*\\.[0-9]+$', raw_input()))"
   ]
  },
  {
   "cell_type": "markdown",
   "id": "8c89746c",
   "metadata": {},
   "source": [
    "57\\ Re.split()"
   ]
  },
  {
   "cell_type": "code",
   "execution_count": null,
   "id": "0351a9eb",
   "metadata": {},
   "outputs": [],
   "source": [
    "regex_pattern = r\"[.,]\"\t\n",
    "\n",
    "import re\n",
    "print(\"\\n\".join(re.split(regex_pattern, raw_input())))"
   ]
  },
  {
   "cell_type": "markdown",
   "id": "7900cfa2",
   "metadata": {},
   "source": [
    "58\\ Group(), Groups() & Groupdict()"
   ]
  },
  {
   "cell_type": "code",
   "execution_count": null,
   "id": "d8ec5206",
   "metadata": {},
   "outputs": [],
   "source": [
    "import re\n",
    "esp=r\"([a-zA-Z0-9])\\1+\"\n",
    "a=re.search(esp,raw_input())\n",
    "if a:\n",
    "    print(a.group(1))\n",
    "else:\n",
    "    print(-1)"
   ]
  },
  {
   "cell_type": "markdown",
   "id": "3fde187f",
   "metadata": {},
   "source": [
    "59\\ Re.findall() & Re.finditer()"
   ]
  },
  {
   "cell_type": "code",
   "execution_count": null,
   "id": "34b0018c",
   "metadata": {},
   "outputs": [],
   "source": [
    "import re\n",
    "voc = 'aeiou'\n",
    "cons = 'qwrtypsdfghjklzxcvbnm'\n",
    "match = re.findall(r'(?<=[' + cons + '])([' + voc + ']{2,})(?=[' + cons + '])', raw_input(), flags=re.I)\n",
    "print('\\n'.join(match or ['-1']))"
   ]
  },
  {
   "cell_type": "markdown",
   "id": "a6dc3a69",
   "metadata": {},
   "source": [
    "60\\ Re.start() & Re.end()"
   ]
  },
  {
   "cell_type": "code",
   "execution_count": null,
   "id": "1ee3de61",
   "metadata": {},
   "outputs": [],
   "source": [
    "a=raw_input()\n",
    "b=raw_input()\n",
    "import re\n",
    "strada=re.compile(b)\n",
    "r=strada.search(a)\n",
    "if not r: print \"(-1, -1)\"\n",
    "while r:\n",
    "    print \"({0}, {1})\".format(r.start(), r.end() - 1)\n",
    "    r=strada.search(a,r.start() + 1)"
   ]
  },
  {
   "cell_type": "markdown",
   "id": "59113dee",
   "metadata": {},
   "source": [
    "61\\ Regex Substitution"
   ]
  },
  {
   "cell_type": "code",
   "execution_count": null,
   "id": "f1a1bca3",
   "metadata": {},
   "outputs": [],
   "source": [
    "n=int(raw_input())\n",
    "for _ in range(n):\n",
    "    linea=raw_input()\n",
    "    while (' && ' in linea) or (' || ' in linea):\n",
    "        linea=linea.replace(' && ', ' and ')\n",
    "        linea=linea.replace(' || ', ' or ')\n",
    "    print(linea)"
   ]
  },
  {
   "cell_type": "markdown",
   "id": "11863c89",
   "metadata": {},
   "source": [
    "62\\ Validating roman numerals"
   ]
  },
  {
   "cell_type": "code",
   "execution_count": null,
   "id": "8e93937e",
   "metadata": {},
   "outputs": [],
   "source": [
    "migl='M{0,3}'\n",
    "cent='(C[MD]|D?C{0,3})'\n",
    "dec='(X[CL]|L?X{0,3})'\n",
    "a='(I[VX]|V?I{0,3})'\n",
    "regex_pattern = r\"%s%s%s%s$\" % (migl, cent, dec, a)    \n",
    "import re\n",
    "print(str(bool(re.match(regex_pattern, raw_input()))))"
   ]
  },
  {
   "cell_type": "markdown",
   "id": "0440c729",
   "metadata": {},
   "source": [
    "63\\ Validating phone numbers"
   ]
  },
  {
   "cell_type": "code",
   "execution_count": null,
   "id": "9dba34ab",
   "metadata": {},
   "outputs": [],
   "source": [
    "import re\n",
    "n=int(raw_input())\n",
    "lista=[]\n",
    "for i in range(n):\n",
    "    lista.append(raw_input())\n",
    "    if(re.match(r'^[7-9]{1}[0-9]{9}\\n?\\r?$', lista[i])):\n",
    "        print \"YES\"\n",
    "    else:\n",
    "        print \"NO\""
   ]
  },
  {
   "cell_type": "markdown",
   "id": "8a235f0d",
   "metadata": {},
   "source": [
    "64\\ Validating and parsing email addresses"
   ]
  },
  {
   "cell_type": "code",
   "execution_count": null,
   "id": "3e8d0b2e",
   "metadata": {},
   "outputs": [],
   "source": [
    "import re\n",
    "n=int(raw_input())\n",
    "for i in range(n):\n",
    "    user=raw_input()\n",
    "    a=re.search(r'<[a-zA-Z][\\w\\.-]*@[a-zA-Z]*\\.[a-zA-Z]{1,3}>', user)\n",
    "    if a:\n",
    "        print(user)"
   ]
  },
  {
   "cell_type": "markdown",
   "id": "416cd561",
   "metadata": {},
   "source": [
    "65\\ Hex color code"
   ]
  },
  {
   "cell_type": "code",
   "execution_count": null,
   "id": "92147aa5",
   "metadata": {},
   "outputs": [],
   "source": [
    "#this exercise is written in python 3 language\n",
    "import re\n",
    "n=int(input())\n",
    "for i in range(n):\n",
    "    vedemo=re.findall(r':?.(#[0-9a-fA-F]{6}|#[0-9a-fA-F]{3})', input())\n",
    "    if vedemo:\n",
    "        print(*vedemo,sep='\\n')"
   ]
  },
  {
   "cell_type": "markdown",
   "id": "e30a587d",
   "metadata": {},
   "source": [
    "66\\ HTML Parser - part 1"
   ]
  },
  {
   "cell_type": "code",
   "execution_count": null,
   "id": "febd5262",
   "metadata": {},
   "outputs": [],
   "source": [
    "#this exercise is written in python 3 language\n",
    "from html.parser import HTMLParser\n",
    "class MyHTMLParser(HTMLParser):\n",
    "    def handle_starttag(self, tag, attrs):\n",
    "        print ('Start :', tag)\n",
    "        for ele in attrs:\n",
    "            print ('->', ele[0], '>', ele[1])\n",
    "    def handle_endtag(self, tag):\n",
    "        print ('End   :', tag)\n",
    "    def handle_startendtag(self, tag, attrs):\n",
    "        print ('Empty :', tag)\n",
    "        for ele in attrs:\n",
    "            print ('->', ele[0], '>', ele[1])\n",
    "parser=MyHTMLParser()\n",
    "for _ in range(int(input())):\n",
    "    parser.feed(input())\n",
    "#I looked at the solutions for this exercise"
   ]
  },
  {
   "cell_type": "markdown",
   "id": "3be1c19b",
   "metadata": {},
   "source": [
    "67\\ HTML Parser - part 2"
   ]
  },
  {
   "cell_type": "code",
   "execution_count": null,
   "id": "e7994d05",
   "metadata": {},
   "outputs": [],
   "source": [
    "#this exercise is written in python 3 language\n",
    "from html.parser import HTMLParser\n",
    "class MyHTMLParser(HTMLParser):\n",
    "    def handle_comment(self, dati):\n",
    "        if dati.count('\\n') > 0:\n",
    "            print(\">>> Multi-line Comment\")\n",
    "        else:\n",
    "            print(\">>> Single-line Comment\")\n",
    "        print(dati)\n",
    "    def handle_data(self, dati):\n",
    "        if len(dati) > 1:\n",
    "            print(\">>> Data\")\n",
    "            print(dati)\n",
    "html = \"\"       \n",
    "for i in range(int(input())):\n",
    "    html += input().rstrip()\n",
    "    html += '\\n'\n",
    "    \n",
    "parser = MyHTMLParser()\n",
    "parser.feed(html)\n",
    "parser.close()"
   ]
  },
  {
   "cell_type": "markdown",
   "id": "c602c8a1",
   "metadata": {},
   "source": [
    "68\\ Detect HTML Tags, Attributes and Attribute Values"
   ]
  },
  {
   "cell_type": "code",
   "execution_count": null,
   "id": "da2acc0d",
   "metadata": {},
   "outputs": [],
   "source": [
    "#this exercise is written in python 3 language\n",
    "from html.parser import HTMLParser\n",
    "class MyHTMLParser(HTMLParser):\n",
    "    def handle_starttag(self, tag, attrs):\n",
    "        print(tag)\n",
    "        for _ in attrs:\n",
    "            print(\"-> {} > {}\".format(_[0], _[1]))\n",
    "    def handle_startendtag(self, tag, attrs):\n",
    "        print(tag)\n",
    "        for _ in attrs:\n",
    "            print(\"-> {} > {}\".format(_[0], _[1]))\n",
    "\n",
    "html = \"\"\n",
    "for i in range(int(input())):\n",
    "    html += input().rstrip()\n",
    "    html += '\\n'\n",
    "parser = MyHTMLParser()\n",
    "parser.feed(html)\n",
    "parser.close()\n",
    "#I looked at the solutions for this exercise"
   ]
  },
  {
   "cell_type": "markdown",
   "id": "9e4cca2b",
   "metadata": {},
   "source": [
    "69\\ Validating UID"
   ]
  },
  {
   "cell_type": "code",
   "execution_count": null,
   "id": "3588ebb4",
   "metadata": {},
   "outputs": [],
   "source": [
    "import re\n",
    "n=int(raw_input())\n",
    "for i in range(n):\n",
    "    s=raw_input().strip()\n",
    "    if s.isalnum() and len(s) == 10:\n",
    "        if bool(re.search(r'(.*[A-Z]){2,}',s)) and bool(re.search(r'(.*[0-9]){3,}',s)):\n",
    "            if re.search(r'.*(.).*\\1+.*',s):\n",
    "                print 'Invalid'\n",
    "            else:\n",
    "                print 'Valid'\n",
    "        else:\n",
    "            print 'Invalid'\n",
    "    else:\n",
    "        print 'Invalid'\n",
    "#I looked at the solutions for this exercise"
   ]
  },
  {
   "cell_type": "markdown",
   "id": "c47cdac3",
   "metadata": {},
   "source": [
    "70\\ Validating Credit Card Numbers"
   ]
  },
  {
   "cell_type": "code",
   "execution_count": null,
   "id": "bf386305",
   "metadata": {},
   "outputs": [],
   "source": [
    "import re\n",
    "n=int(raw_input())\n",
    "for i in range(n):\n",
    "    a=raw_input().strip()\n",
    "    vedemo = re.search(r'^[456]\\d{3}(-?)\\d{4}\\1\\d{4}\\1\\d{4}$',a)\n",
    "    if vedemo:\n",
    "        strf = \"\".join(vedemo.group(0).split('-'))\n",
    "        finale = re.search(r'(\\d)\\1{3,}',strf)\n",
    "        print 'Invalid' if finale else 'Valid'\n",
    "    else:\n",
    "        print 'Invalid'"
   ]
  },
  {
   "cell_type": "markdown",
   "id": "c72dc750",
   "metadata": {},
   "source": [
    "71\\ Validating postal codes"
   ]
  },
  {
   "cell_type": "code",
   "execution_count": null,
   "id": "4d40f7f7",
   "metadata": {},
   "outputs": [],
   "source": [
    "regex_integer_in_range = r\"^[1-9][\\d]{5}$\"\n",
    "regex_alternating_repetitive_digit_pair = r\"(\\d)(?=\\d\\1)\"\t\n",
    "\n",
    "\n",
    "import re\n",
    "P = raw_input()\n",
    "\n",
    "print (bool(re.match(regex_integer_in_range, P)) \n",
    "and len(re.findall(regex_alternating_repetitive_digit_pair, P)) < 2)"
   ]
  },
  {
   "cell_type": "markdown",
   "id": "d81d27cd",
   "metadata": {},
   "source": [
    "72\\ Matrix script"
   ]
  },
  {
   "cell_type": "code",
   "execution_count": null,
   "id": "a965b314",
   "metadata": {},
   "outputs": [],
   "source": [
    "import math\n",
    "import os\n",
    "import random\n",
    "import re\n",
    "import sys\n",
    "\n",
    "first_multiple_input = raw_input().rstrip().split()\n",
    "\n",
    "n = int(first_multiple_input[0])\n",
    "\n",
    "m = int(first_multiple_input[1])\n",
    "\n",
    "matrix = []\n",
    "\n",
    "for _ in xrange(n):\n",
    "    matrix_item = raw_input()\n",
    "    matrix.append(matrix_item)\n",
    "matrix = list(zip(*matrix))\n",
    "\n",
    "camp = str()\n",
    "\n",
    "for a in matrix:\n",
    "    for i in a:\n",
    "        camp += i\n",
    "print(re.sub(r'(?<=\\w)([^\\w\\d]+)(?=\\w)', ' ', camp)) \n",
    "#I looked at the solutions for this exercise"
   ]
  },
  {
   "cell_type": "markdown",
   "id": "989c1f67",
   "metadata": {},
   "source": [
    "73\\ XML 1 - Find the score"
   ]
  },
  {
   "cell_type": "code",
   "execution_count": null,
   "id": "157e8af3",
   "metadata": {},
   "outputs": [],
   "source": [
    "import sys\n",
    "import xml.etree.ElementTree as etree\n",
    "def get_attr_number(node):\n",
    "    return len(node.attrib) + sum(get_attr_number(a) for a in node);\n",
    "if __name__ == '__main__':\n",
    "    sys.stdin.readline()\n",
    "    xml = sys.stdin.read()\n",
    "    tree = etree.ElementTree(etree.fromstring(xml))\n",
    "    root = tree.getroot()\n",
    "    print get_attr_number(root)"
   ]
  },
  {
   "cell_type": "markdown",
   "id": "043d4a01",
   "metadata": {},
   "source": [
    "74\\ XML2 - Find the maximum depth"
   ]
  },
  {
   "cell_type": "code",
   "execution_count": null,
   "id": "867159f1",
   "metadata": {},
   "outputs": [],
   "source": [
    "import xml.etree.ElementTree as etree\n",
    "\n",
    "maxdepth = 0\n",
    "def depth(elem, level):\n",
    "    global maxdepth\n",
    "    if (level == maxdepth):\n",
    "        maxdepth += 1\n",
    "    for _ in elem:\n",
    "        depth(_, level + 1)\n",
    "\n",
    "if __name__ == '__main__':\n",
    "    n = int(raw_input())\n",
    "    xml = \"\"\n",
    "    for i in range(n):\n",
    "        xml =  xml + raw_input() + \"\\n\"\n",
    "    tree = etree.ElementTree(etree.fromstring(xml))\n",
    "    depth(tree.getroot(), -1)\n",
    "    print maxdepth"
   ]
  },
  {
   "cell_type": "markdown",
   "id": "47909158",
   "metadata": {},
   "source": [
    "75\\ Standardize Mobile Number Using Decorators"
   ]
  },
  {
   "cell_type": "code",
   "execution_count": null,
   "id": "e194aa2b",
   "metadata": {},
   "outputs": [],
   "source": [
    "def wrapper(f):\n",
    "    def fun(l):\n",
    "        f(['+91 ' + i[-10:-5] + ' ' + i[-5:] for i in l])\n",
    "    return fun\n",
    "\n",
    "@wrapper\n",
    "def sort_phone(l):\n",
    "    print '\\n'.join(sorted(l))\n",
    "\n",
    "if __name__ == '__main__':\n",
    "    l = [raw_input() for _ in range(int(input()))]\n",
    "    sort_phone(l) \n",
    "#I looked at the solutions for this exercise"
   ]
  },
  {
   "cell_type": "markdown",
   "id": "73eaf313",
   "metadata": {},
   "source": [
    "76\\ Decorators 2 - Name directory"
   ]
  },
  {
   "cell_type": "code",
   "execution_count": null,
   "id": "43b5296d",
   "metadata": {},
   "outputs": [],
   "source": [
    "import operator\n",
    "def person_lister(a):\n",
    "    def inner(b):\n",
    "        return map(a,sorted(b,key=lambda x:int(x[2])))\n",
    "    return inner\n",
    "@person_lister\n",
    "def name_format(person):\n",
    "    return (\"Mr. \" if person[3] == \"M\" else \"Ms. \") + person[0] + \" \" + person[1]\n",
    "\n",
    "if __name__ == '__main__':\n",
    "    people = [raw_input().split() for i in range(int(raw_input()))]\n",
    "    print '\\n'.join(name_format(people))"
   ]
  },
  {
   "cell_type": "markdown",
   "id": "1f804289",
   "metadata": {},
   "source": [
    "77\\ Arrays"
   ]
  },
  {
   "cell_type": "code",
   "execution_count": null,
   "id": "28e36c3d",
   "metadata": {},
   "outputs": [],
   "source": [
    "import numpy\n",
    "\n",
    "def arrays(arr):\n",
    "    vett=numpy.array(arr, float)\n",
    "    vettb=numpy.flip(vett)\n",
    "    return vettb \n",
    "arr = raw_input().strip().split(' ')\n",
    "result = arrays(arr)\n",
    "print(result)"
   ]
  },
  {
   "cell_type": "markdown",
   "id": "4a8d62c1",
   "metadata": {},
   "source": [
    "78\\ Shape and reshape"
   ]
  },
  {
   "cell_type": "code",
   "execution_count": null,
   "id": "b6ccaabc",
   "metadata": {},
   "outputs": [],
   "source": [
    "import numpy\n",
    "vett=numpy.array(raw_input().split(), int)\n",
    "print numpy.reshape(vett,(3,3))"
   ]
  },
  {
   "cell_type": "markdown",
   "id": "5485208a",
   "metadata": {},
   "source": [
    "79\\ Transpose and flatten"
   ]
  },
  {
   "cell_type": "code",
   "execution_count": null,
   "id": "f10f5d60",
   "metadata": {},
   "outputs": [],
   "source": [
    "import numpy\n",
    "n,m=map(int,raw_input().split())\n",
    "vett=numpy.array([map(int, raw_input().split()) for i in range(n)])\n",
    "print numpy.transpose(vett)\n",
    "print vett.flatten()"
   ]
  },
  {
   "cell_type": "markdown",
   "id": "00d936c3",
   "metadata": {},
   "source": [
    "80\\ Concatenate"
   ]
  },
  {
   "cell_type": "code",
   "execution_count": null,
   "id": "d2c89537",
   "metadata": {},
   "outputs": [],
   "source": [
    "import numpy\n",
    "n,m,p=map(int,raw_input().split())\n",
    "vett1=numpy.array([map(int, raw_input().split()) for i in range(n)])\n",
    "vett2=numpy.array([map(int, raw_input().split()) for i in range(m)])\n",
    "print numpy.concatenate((vett1,vett2),axis=0)"
   ]
  },
  {
   "cell_type": "markdown",
   "id": "8ae3ca9e",
   "metadata": {},
   "source": [
    "81\\ Zeros and ones"
   ]
  },
  {
   "cell_type": "code",
   "execution_count": null,
   "id": "71db3cf5",
   "metadata": {},
   "outputs": [],
   "source": [
    "import numpy\n",
    "n=map(int, raw_input().split())\n",
    "print numpy.zeros(n, dtype=numpy.int)\n",
    "print numpy.ones(n, dtype=numpy.int)"
   ]
  },
  {
   "cell_type": "markdown",
   "id": "af9c857d",
   "metadata": {},
   "source": [
    "82\\ Eye and identity"
   ]
  },
  {
   "cell_type": "code",
   "execution_count": null,
   "id": "20021882",
   "metadata": {},
   "outputs": [],
   "source": [
    "import numpy\n",
    "numpy.set_printoptions(legacy='1.13')\n",
    "n,m=map(int, raw_input().split())\n",
    "vett1=numpy.eye(n,m,0)\n",
    "print vett1"
   ]
  },
  {
   "cell_type": "markdown",
   "id": "ba1cae62",
   "metadata": {},
   "source": [
    "83\\ Array mathematics"
   ]
  },
  {
   "cell_type": "code",
   "execution_count": null,
   "id": "d91c0fa5",
   "metadata": {},
   "outputs": [],
   "source": [
    "import numpy\n",
    "n,m=map(int,raw_input().split())\n",
    "vett1=numpy.array([map(int, raw_input().split()) for i in range(n)])\n",
    "vett2=numpy.array([map(int, raw_input().split()) for i in range(n)])\n",
    "print vett1 + vett2\n",
    "print vett1 - vett2\n",
    "print vett1 * vett2\n",
    "print vett1 / vett2\n",
    "print vett1 % vett2\n",
    "print vett1**vett2"
   ]
  },
  {
   "cell_type": "markdown",
   "id": "d63cbd26",
   "metadata": {},
   "source": [
    "84\\ Floor, ceil and rint"
   ]
  },
  {
   "cell_type": "code",
   "execution_count": null,
   "id": "4fd3d1ba",
   "metadata": {},
   "outputs": [],
   "source": [
    "import numpy\n",
    "numpy.set_printoptions(legacy='1.13')\n",
    "vett=numpy.array(raw_input().split(),float)\n",
    "print(numpy.floor(vett))\n",
    "print(numpy.ceil(vett))\n",
    "print(numpy.rint(vett))"
   ]
  },
  {
   "cell_type": "markdown",
   "id": "0fb230ef",
   "metadata": {},
   "source": [
    "85\\ Sum and prod"
   ]
  },
  {
   "cell_type": "code",
   "execution_count": null,
   "id": "4e15bacf",
   "metadata": {},
   "outputs": [],
   "source": [
    "import numpy\n",
    "n,m=map(int,raw_input().split())\n",
    "vett1=numpy.array([map(int, raw_input().split()) for i in range(n)])\n",
    "a=numpy.sum(vett1,axis=0)\n",
    "print numpy.prod(a)"
   ]
  },
  {
   "cell_type": "markdown",
   "id": "ed197fd5",
   "metadata": {},
   "source": [
    "86\\ Min and max"
   ]
  },
  {
   "cell_type": "code",
   "execution_count": null,
   "id": "1bf43f3c",
   "metadata": {},
   "outputs": [],
   "source": [
    "import numpy\n",
    "n,m=map(int,raw_input().split())\n",
    "vett1=numpy.array([map(int, raw_input().split()) for i in range(n)])\n",
    "a=numpy.min(vett1,axis=1)\n",
    "print numpy.max(a)"
   ]
  },
  {
   "cell_type": "markdown",
   "id": "ae8bca65",
   "metadata": {},
   "source": [
    "87\\ Mean, var, and std"
   ]
  },
  {
   "cell_type": "code",
   "execution_count": null,
   "id": "a566469d",
   "metadata": {},
   "outputs": [],
   "source": [
    "import numpy\n",
    "n,m=map(int,raw_input().split())\n",
    "vett1=numpy.array([map(int, raw_input().split()) for i in range(n)])\n",
    "print numpy.mean(vett1,axis=1)\n",
    "print numpy.var(vett1,axis=0)\n",
    "print round(numpy.std(vett1),11)"
   ]
  },
  {
   "cell_type": "markdown",
   "id": "0c2e27da",
   "metadata": {},
   "source": [
    "88\\ Dot and cross"
   ]
  },
  {
   "cell_type": "code",
   "execution_count": null,
   "id": "95aa584d",
   "metadata": {},
   "outputs": [],
   "source": [
    "import numpy\n",
    "n=int(raw_input())\n",
    "vett1=numpy.array([map(int, raw_input().split()) for i in range(n)])\n",
    "vett2=numpy.array([map(int, raw_input().split()) for i in range(n)])\n",
    "print numpy.dot(vett1,vett2)"
   ]
  },
  {
   "cell_type": "markdown",
   "id": "1b8fdbd8",
   "metadata": {},
   "source": [
    "89\\ Inner and outer"
   ]
  },
  {
   "cell_type": "code",
   "execution_count": null,
   "id": "5c714def",
   "metadata": {},
   "outputs": [],
   "source": [
    "import numpy\n",
    "vett1=numpy.array([map(int, raw_input().split())])\n",
    "vett2=numpy.array([map(int, raw_input().split())])\n",
    "print int(numpy.inner(vett1,vett2))\n",
    "print numpy.outer(vett1,vett2)"
   ]
  },
  {
   "cell_type": "markdown",
   "id": "35aa78b4",
   "metadata": {},
   "source": [
    "90\\ Polynomials"
   ]
  },
  {
   "cell_type": "code",
   "execution_count": null,
   "id": "e931f83b",
   "metadata": {},
   "outputs": [],
   "source": [
    "import numpy \n",
    "vett=numpy.array(list(map(float, raw_input().strip().split())))\n",
    "x=float(raw_input().strip())\n",
    "print(numpy.polyval(vett, x))"
   ]
  },
  {
   "cell_type": "markdown",
   "id": "56225269",
   "metadata": {},
   "source": [
    "91\\ Linear algebra"
   ]
  },
  {
   "cell_type": "code",
   "execution_count": null,
   "id": "c4ed8701",
   "metadata": {},
   "outputs": [],
   "source": [
    "import numpy\n",
    "n=int(raw_input())\n",
    "vett1=numpy.array([map(float, raw_input().split()) for i in range(n)])\n",
    "print round(numpy.linalg.det(vett1),2)"
   ]
  },
  {
   "cell_type": "markdown",
   "id": "7cf7cab8",
   "metadata": {},
   "source": [
    "Problem 2:"
   ]
  },
  {
   "cell_type": "markdown",
   "id": "9e465ec0",
   "metadata": {},
   "source": [
    "92\\ Birthday cake candles"
   ]
  },
  {
   "cell_type": "code",
   "execution_count": null,
   "id": "9729adad",
   "metadata": {},
   "outputs": [],
   "source": [
    "import math\n",
    "import os\n",
    "import random\n",
    "import re\n",
    "import sys\n",
    "\n",
    "\n",
    "def birthdayCakeCandles(candles):\n",
    "    cont=0\n",
    "    temp=candles[0]\n",
    "    for i in range(1,len(candles)):\n",
    "        if candles[i]>temp:\n",
    "            temp=candles[i]\n",
    "    for i in range(0,len(candles)):\n",
    "        if candles[i]==temp:\n",
    "            cont=cont+1\n",
    "    return cont\n",
    "if __name__ == '__main__':\n",
    "    fptr = open(os.environ['OUTPUT_PATH'], 'w')\n",
    "\n",
    "    candles_count = int(raw_input().strip())\n",
    "\n",
    "    candles = map(int, raw_input().rstrip().split())\n",
    "\n",
    "    result = birthdayCakeCandles(candles)\n",
    "\n",
    "    fptr.write(str(result) + '\\n')\n",
    "\n",
    "    fptr.close()"
   ]
  },
  {
   "cell_type": "markdown",
   "id": "31fb61d0",
   "metadata": {},
   "source": [
    "93\\ Number line jumps"
   ]
  },
  {
   "cell_type": "code",
   "execution_count": null,
   "id": "be9afb88",
   "metadata": {},
   "outputs": [],
   "source": [
    "import math\n",
    "import os\n",
    "import random\n",
    "import re\n",
    "import sys\n",
    "\n",
    "def kangaroo(x1, v1, x2, v2):\n",
    "    if (v1 > v2) and (x2 - x1) % (v2 - v1) == 0:\n",
    "        return \"YES\"\n",
    "    else:\n",
    "        return \"NO\"\n",
    "if __name__ == '__main__':\n",
    "    fptr = open(os.environ['OUTPUT_PATH'], 'w')\n",
    "\n",
    "    first_multiple_input = raw_input().rstrip().split()\n",
    "\n",
    "    x1 = int(first_multiple_input[0])\n",
    "\n",
    "    v1 = int(first_multiple_input[1])\n",
    "\n",
    "    x2 = int(first_multiple_input[2])\n",
    "\n",
    "    v2 = int(first_multiple_input[3])\n",
    "\n",
    "    result = kangaroo(x1, v1, x2, v2)\n",
    "\n",
    "    fptr.write(result + '\\n')\n",
    "\n",
    "    fptr.close()\n"
   ]
  },
  {
   "cell_type": "markdown",
   "id": "93a63352",
   "metadata": {},
   "source": [
    "94\\ Viral advertising"
   ]
  },
  {
   "cell_type": "code",
   "execution_count": null,
   "id": "079ac3a0",
   "metadata": {},
   "outputs": [],
   "source": [
    "import math\n",
    "import os\n",
    "import random\n",
    "import re\n",
    "import sys\n",
    "\n",
    "def viralAdvertising(n):\n",
    "    pdetto=2\n",
    "    persi=5\n",
    "    pdettot=2\n",
    "    for i in range(1,n):\n",
    "        persi=int(persi/2)*3\n",
    "        pdetto=int(persi/2)\n",
    "        pdettot=pdettot+pdetto\n",
    "    return pdettot\n",
    "if __name__ == '__main__':\n",
    "    fptr = open(os.environ['OUTPUT_PATH'], 'w')\n",
    "\n",
    "    n = int(raw_input().strip())\n",
    "\n",
    "    result = viralAdvertising(n)\n",
    "\n",
    "    fptr.write(str(result) + '\\n')\n",
    "\n",
    "    fptr.close()"
   ]
  },
  {
   "cell_type": "markdown",
   "id": "54950ada",
   "metadata": {},
   "source": [
    "95\\ Recursive digit sum"
   ]
  },
  {
   "cell_type": "code",
   "execution_count": null,
   "id": "c9a261cc",
   "metadata": {},
   "outputs": [],
   "source": [
    "import math\n",
    "import os\n",
    "import random\n",
    "import re\n",
    "import sys\n",
    "def superDigit(n, k):\n",
    "    return 1 + (k * sum(int(x) for x in n) - 1) % 9\n",
    "\n",
    "if __name__ == '__main__':\n",
    "    fptr = open(os.environ['OUTPUT_PATH'], 'w')\n",
    "\n",
    "    first_multiple_input = raw_input().rstrip().split()\n",
    "\n",
    "    n = first_multiple_input[0]\n",
    "\n",
    "    k = int(first_multiple_input[1])\n",
    "\n",
    "    result = superDigit(n, k)\n",
    "\n",
    "    fptr.write(str(result) + '\\n')\n",
    "\n",
    "    fptr.close()"
   ]
  },
  {
   "cell_type": "markdown",
   "id": "193b7a5a",
   "metadata": {},
   "source": [
    "96\\ Insertion sort - part 1"
   ]
  },
  {
   "cell_type": "code",
   "execution_count": null,
   "id": "7d0362d2",
   "metadata": {},
   "outputs": [],
   "source": [
    "#this exercise is written in python 3 language\n",
    "import math\n",
    "import os\n",
    "import random\n",
    "import re\n",
    "import sys\n",
    "def insertionSort1(n,arr):\n",
    "    conf=arr[-1]\n",
    "    numbon=n-2\n",
    "    while(conf<arr[numbon]) and (numbon >= 0):\n",
    "        arr[numbon+1]=arr[numbon]\n",
    "        print(*arr)\n",
    "        numbon -= 1\n",
    "    arr[numbon+1]=conf\n",
    "    print(*arr)\n",
    "if __name__ == '__main__':\n",
    "    n = int(input().strip())\n",
    "\n",
    "    arr = list(map(int, input().rstrip().split()))\n",
    "\n",
    "    insertionSort1(n, arr)"
   ]
  },
  {
   "cell_type": "markdown",
   "id": "be4dbcf5",
   "metadata": {},
   "source": [
    "97\\ Insertion sort - part 2"
   ]
  },
  {
   "cell_type": "code",
   "execution_count": null,
   "id": "158b5722",
   "metadata": {},
   "outputs": [],
   "source": [
    "#this exercise is written in python 3 language\n",
    "import math\n",
    "import os\n",
    "import random\n",
    "import re\n",
    "import sys\n",
    "def insertionSort1(start, arr):\n",
    "    part = arr[start]\n",
    "    for i in range(start-1, -1, -1):\n",
    "        if arr[i] > part:\n",
    "            arr[i+1] = arr[i]\n",
    "        else:\n",
    "            arr[i+1] = part\n",
    "            break\n",
    "    if arr[0] > part:\n",
    "        arr[0] = part\n",
    "def insertionSort2(n, arr):\n",
    "    for i in range(1, len(arr)):\n",
    "        insertionSort1(i, arr)\n",
    "        print(\" \".join(map(str, arr)))\n",
    "if __name__ == '__main__':\n",
    "    n = int(input().strip())\n",
    "\n",
    "    arr = list(map(int, input().rstrip().split()))\n",
    "\n",
    "    insertionSort2(n, arr)\n",
    "#I looked at the solutions for this exercise"
   ]
  }
 ],
 "metadata": {
  "kernelspec": {
   "display_name": "Python 3",
   "language": "python",
   "name": "python3"
  },
  "language_info": {
   "codemirror_mode": {
    "name": "ipython",
    "version": 3
   },
   "file_extension": ".py",
   "mimetype": "text/x-python",
   "name": "python",
   "nbconvert_exporter": "python",
   "pygments_lexer": "ipython3",
   "version": "3.8.8"
  }
 },
 "nbformat": 4,
 "nbformat_minor": 5
}
